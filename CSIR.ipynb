{
 "cells": [
  {
   "cell_type": "code",
   "execution_count": 4,
   "metadata": {
    "scrolled": true
   },
   "outputs": [
    {
     "name": "stdout",
     "output_type": "stream",
     "text": [
      " co2a0000364\n",
      "[[ -8.921  -8.433  -2.574 ...,   4.262   5.727   8.169]\n",
      " [  0.834   3.276   5.717 ...,   2.787   9.623  13.041]\n",
      " [-19.847 -12.522   1.149 ...,   7.009  11.403  12.868]\n",
      " ..., \n",
      " [ -0.478  -0.966  -0.966 ...,   4.405   3.916   2.94 ]\n",
      " [ -8.901  -7.924  -3.042 ...,   4.771   6.236   8.677]\n",
      " [ -5.636  -2.706   1.689 ...,  15.849  16.337  14.872]]\n"
     ]
    }
   ],
   "source": [
    "import codecs\n",
    "import numpy as np\n",
    "import matplotlib.pyplot as plt\n",
    "import plotly.plotly as py\n",
    "import plotly.graph_objs as go\n",
    "\n",
    "class Recording:\n",
    "    def __init__(self, id, type):\n",
    "        self.id=id\n",
    "        self.type = type\n",
    "        value = 64*[255*[0]]\n",
    "        \n",
    "class Person:\n",
    "    recordings = []\n",
    "    def setName(self, id):\n",
    "        self.id=id\n",
    "    def setRecordings(self, recordings):\n",
    "        self.recordings = recordings\n",
    "    def printData(self):\n",
    "        print(self.id)\n",
    "        print(self.recordings)\n",
    "\n",
    "with codecs.open('co2a0000364.rd.000', 'r', 'utf8') as file:\n",
    "    rows = file.readlines()\n",
    "    channels=[]\n",
    "    headerCount = 0\n",
    "    person = Person()\n",
    "    recordingMatrix = np.zeros(shape=(64,256), dtype = np.float64)\n",
    "    for row in rows:\n",
    "        if '#' not in row:\n",
    "             recordingMatrix[len(channels)-1][int(row.split(' ')[2])] = row.split(' ')[3]\n",
    "        else:\n",
    "            if(headerCount==0):\n",
    "                person.setName(row.strip('#').split('.')[0])\n",
    "            elif(headerCount == 3):\n",
    "                recording = Recording((row.split(' ')[5]), (row.split(' ')[1] + row.split(' ')[2]))\n",
    "            elif(headerCount>3):\n",
    "                channels.append(row.split(' ')[1])\n",
    "        headerCount+=1\n",
    "    person.setRecordings(recordingMatrix)\n",
    "    person.printData()   \n",
    "\n",
    "    data = [\n",
    "        go.Surface(\n",
    "            z=recordingMatrix\n",
    "        )\n",
    "    ]\n",
    "    layout = go.Layout(\n",
    "        title='EEG Dataset',\n",
    "        autosize=False,\n",
    "        width=500,\n",
    "        height=500,\n",
    "        margin=dict(\n",
    "            l=65,\n",
    "            r=50,\n",
    "            b=65,\n",
    "            t=90\n",
    "        )\n",
    "    )\n",
    "    fig = go.Figure(data=data, layout=layout)\n",
    "    py.iplot(fig, filename=person.id)\n",
    "#     fig = plt.figure(figsize=(40, 30))\n",
    "\n",
    "#     ax = fig.add_subplot(111)\n",
    "#     ax.set_title('EEG per user')\n",
    "#     plt.imshow(recordingMatrix)\n",
    "#     ax.set_aspect('equal')\n",
    "\n",
    "# #     cax = fig.add_axes([0.12, 0.1, 0.78, 0.8])\n",
    "#     cax.get_xaxis().set_visible(True)\n",
    "#     cax.get_yaxis().set_visible(True)\n",
    "#     cax.patch.set_alpha(0)\n",
    "#     cax.set_frame_on(True)\n",
    "#     plt.colorbar(orientation='horizontal')\n",
    "#     plt.show()\n",
    "#     plt.imshow(recordingMatrix)\n",
    "#     plt.figure(figsize=(40, 30))\n",
    "#     plt.colorbar()\n",
    "#     plt.show()\n",
    "#     fig, axes = plt.subplots(nrows=64, ncols=256)\n",
    "#     for ax in axes.flat:\n",
    "#         im = ax.imshow(recordingMatrix)\n",
    "#     fig.subplots_adjust(right=0.8)\n",
    "#     cbar_ax = fig.add_axes([0.85, 0.15, 0.05, 0.7])\n",
    "#     fig.colorbar(im, cax=cbar_ax)\n",
    "#     plt.show()"
   ]
  },
  {
   "cell_type": "code",
   "execution_count": null,
   "metadata": {
    "collapsed": true
   },
   "outputs": [],
   "source": []
  }
 ],
 "metadata": {
  "kernelspec": {
   "display_name": "Python 3",
   "language": "python",
   "name": "python3"
  },
  "language_info": {
   "codemirror_mode": {
    "name": "ipython",
    "version": 3
   },
   "file_extension": ".py",
   "mimetype": "text/x-python",
   "name": "python",
   "nbconvert_exporter": "python",
   "pygments_lexer": "ipython3",
   "version": "3.6.1"
  }
 },
 "nbformat": 4,
 "nbformat_minor": 2
}
