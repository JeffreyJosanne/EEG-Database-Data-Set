{
 "cells": [
  {
   "cell_type": "code",
   "execution_count": 73,
   "metadata": {
    "scrolled": true
   },
   "outputs": [
    {
     "name": "stdout",
     "output_type": "stream",
     "text": [
      "[[ -8.921  -8.433  -2.574 ...,   4.262   5.727   8.169]\n",
      " [  0.834   3.276   5.717 ...,   2.787   9.623  13.041]\n",
      " [-19.847 -12.522   1.149 ...,   7.009  11.403  12.868]\n",
      " ..., \n",
      " [ -0.478  -0.966  -0.966 ...,   4.405   3.916   2.94 ]\n",
      " [ -8.901  -7.924  -3.042 ...,   4.771   6.236   8.677]\n",
      " [ -5.636  -2.706   1.689 ...,  15.849  16.337  14.872]]\n"
     ]
    }
   ],
   "source": [
    "import codecs\n",
    "import numpy as np\n",
    "\n",
    "class Recording:\n",
    "    def __init__(self, id, type):\n",
    "        self.id=id\n",
    "        self.type = type\n",
    "        value = 64*[255*[0]]\n",
    "        \n",
    "class Person:\n",
    "    recordings = []\n",
    "    def __init__(self, id):\n",
    "        self.id = id\n",
    "    def setRecordings(recordings):\n",
    "        self.recordings = recordings\n",
    "\n",
    "with codecs.open('co2a0000364.rd.000', 'r', 'utf8') as file:\n",
    "    rows = file.readlines()\n",
    "    channels=[]\n",
    "    headerCount = 0\n",
    "    recordingMatrix = numpy.zeros(shape=(64,256), dtype = np.float64)\n",
    "    for row in rows:\n",
    "        if '#' not in row:\n",
    "             recordingMatrix[len(channels)-1][int(row.split(' ')[2])] = row.split(' ')[3]\n",
    "        else:\n",
    "            if(headerCount==0):\n",
    "                person = Person(row.strip('#').split('.')[0])\n",
    "            elif(headerCount == 3):\n",
    "                recording = Recording((row.split(' ')[5]), (row.split(' ')[1] + row.split(' ')[2]))\n",
    "            elif(headerCount>3):\n",
    "                channels.append(row.split(' ')[1])\n",
    "#                 print(row.split(' ')[1])\n",
    "# #                 if(int(headerCount/260)==1):\n",
    "# #                     print(row)\n",
    "        headerCount+=1\n",
    "    print(recordingMatrix)\n",
    "            \n",
    "\n"
   ]
  },
  {
   "cell_type": "code",
   "execution_count": null,
   "metadata": {
    "collapsed": true
   },
   "outputs": [],
   "source": []
  }
 ],
 "metadata": {
  "kernelspec": {
   "display_name": "Python 3",
   "language": "python",
   "name": "python3"
  },
  "language_info": {
   "codemirror_mode": {
    "name": "ipython",
    "version": 3
   },
   "file_extension": ".py",
   "mimetype": "text/x-python",
   "name": "python",
   "nbconvert_exporter": "python",
   "pygments_lexer": "ipython3",
   "version": "3.6.1"
  }
 },
 "nbformat": 4,
 "nbformat_minor": 2
}
