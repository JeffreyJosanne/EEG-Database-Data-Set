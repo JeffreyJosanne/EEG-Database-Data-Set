{
 "cells": [
  {
   "cell_type": "code",
   "execution_count": 29,
   "metadata": {
    "scrolled": true
   },
   "outputs": [
    {
     "name": "stdout",
     "output_type": "stream",
     "text": [
      "[[ 15805.524105  14932.147655  16976.801151 ...,    289.699749\n",
      "   16038.637818  19343.889099]\n",
      " [ 14932.147655  19960.826774  14139.624942 ...,    -42.221655\n",
      "   15139.513508  17694.524755]\n",
      " [ 16976.801151  14139.624942  32372.338472 ...,   1520.937793\n",
      "   17477.050441  25207.940358]\n",
      " ..., \n",
      " [   289.699749    -42.221655   1520.937793 ...,   1096.487103    408.27589\n",
      "    2685.069566]\n",
      " [ 16038.637818  15139.513508  17477.050441 ...,    408.27589   16336.760657\n",
      "   20007.396217]\n",
      " [ 19343.889099  17694.524755  25207.940358 ...,   2685.069566\n",
      "   20007.396217  34806.72494 ]]\n"
     ]
    }
   ],
   "source": [
    "import codecs\n",
    "import numpy as np\n",
    "import matplotlib.pyplot as plt\n",
    "import plotly.plotly as py\n",
    "import plotly.graph_objs as go\n",
    "import pickle\n",
    "\n",
    "class Recording:\n",
    "    def __init__(self, id, type):\n",
    "        self.id=id\n",
    "        self.type = type\n",
    "        value = 64*[255*[0]]\n",
    "        \n",
    "class Person:\n",
    "    recordings = []\n",
    "    def setName(self, id):\n",
    "        self.id=id\n",
    "    def setRecordings(self, recordings):\n",
    "        self.recordings = recordings\n",
    "    def printData(self):\n",
    "        print(self.id)\n",
    "        print(self.recordings)\n",
    "\n",
    "with codecs.open('co2a0000364.rd.000', 'r', 'utf8') as file:\n",
    "    rows = file.readlines()\n",
    "    channels=[]\n",
    "    headerCount = 0\n",
    "    person = Person()\n",
    "    recordingMatrix = np.zeros(shape=(64,256), dtype = np.float64)\n",
    "    for row in rows:\n",
    "        if '#' not in row:\n",
    "             recordingMatrix[len(channels)-1][int(row.split(' ')[2])] = row.split(' ')[3]\n",
    "        else:\n",
    "            if(headerCount==0):\n",
    "                person.setName(row.strip('#').split('.')[0])\n",
    "            elif(headerCount == 3):\n",
    "                recording = Recording((row.split(' ')[5]), (row.split(' ')[1] + row.split(' ')[2]))\n",
    "            elif(headerCount>3):\n",
    "                channels.append(row.split(' ')[1])\n",
    "        headerCount+=1\n",
    "    person.setRecordings(recordingMatrix)\n",
    "#     person.printData()\n",
    "    with open(person.id+'.pickle', \"wb\") as output_file:\n",
    "        pickle.dump(person, output_file)\n",
    "    with open(person.id+'.pickle', \"rb\") as input_file:\n",
    "        personData = pickle.load(input_file)\n",
    "#     print(personData.recordings)\n",
    "    correlatedMatrix = np.zeros(shape=(64,64), dtype = np.float64)\n",
    "    for i in range(0, 64):\n",
    "        for j in range(0, 64):\n",
    "            correlatedMatrix[i][j] = np.correlate(personData.recordings[i], personData.recordings[j])\n",
    "    print(correlatedMatrix)\n",
    "#     data = [\n",
    "#         go.Surface(\n",
    "#             z=recordingMatrix\n",
    "#         )\n",
    "#     ]\n",
    "#     layout = go.Layout(\n",
    "#         title='EEG Dataset',\n",
    "#         autosize=False,\n",
    "#         width=500,\n",
    "#         height=500,\n",
    "#         margin=dict(\n",
    "#             l=65,\n",
    "#             r=50,\n",
    "#             b=65,\n",
    "#             t=90\n",
    "#         )\n",
    "#     )\n",
    "#     fig = go.Figure(data=data, layout=layout)\n",
    "#     py.iplot(fig, filename=person.id)\n"
   ]
  },
  {
   "cell_type": "code",
   "execution_count": null,
   "metadata": {
    "collapsed": true
   },
   "outputs": [],
   "source": []
  }
 ],
 "metadata": {
  "kernelspec": {
   "display_name": "Python 3",
   "language": "python",
   "name": "python3"
  },
  "language_info": {
   "codemirror_mode": {
    "name": "ipython",
    "version": 3
   },
   "file_extension": ".py",
   "mimetype": "text/x-python",
   "name": "python",
   "nbconvert_exporter": "python",
   "pygments_lexer": "ipython3",
   "version": "3.6.1"
  }
 },
 "nbformat": 4,
 "nbformat_minor": 2
}
