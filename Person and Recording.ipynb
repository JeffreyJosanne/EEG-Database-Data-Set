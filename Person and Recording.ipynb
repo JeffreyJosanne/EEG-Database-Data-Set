{
 "cells": [
  {
   "cell_type": "code",
   "execution_count": 5,
   "metadata": {},
   "outputs": [],
   "source": [
    "class Recording:\n",
    "    def __init__(id, name, AlcoholicOrNot):\n",
    "        self.id=id\n",
    "        self.name = name\n",
    "        self.type = AlcoholicOrNot\n",
    "        value = 64*[255*[0]]\n",
    "        \n",
    "class Person:\n",
    "    recordings=[]\n",
    "    def __init__(id):\n",
    "        self.id=id\n",
    "    def setRecordings(recordings):\n",
    "        self.recordings = recordings\n",
    "\n"
   ]
  },
  {
   "cell_type": "code",
   "execution_count": null,
   "metadata": {
    "collapsed": true
   },
   "outputs": [],
   "source": []
  }
 ],
 "metadata": {
  "kernelspec": {
   "display_name": "Python 3",
   "language": "python",
   "name": "python3"
  },
  "language_info": {
   "codemirror_mode": {
    "name": "ipython",
    "version": 3
   },
   "file_extension": ".py",
   "mimetype": "text/x-python",
   "name": "python",
   "nbconvert_exporter": "python",
   "pygments_lexer": "ipython3",
   "version": "3.6.1"
  }
 },
 "nbformat": 4,
 "nbformat_minor": 2
}
